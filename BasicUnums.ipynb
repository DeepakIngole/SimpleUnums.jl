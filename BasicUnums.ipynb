{
 "cells": [
  {
   "cell_type": "code",
   "execution_count": 1,
   "metadata": {
    "collapsed": true
   },
   "outputs": [],
   "source": [
    "immutable Unum\n",
    "    s::Int    # sign\n",
    "    e::Int    # exponent\n",
    "    f::Int    # fraction\n",
    "    u::Int    # ubit\n",
    "    esm1::Int   # exponent size - 1\n",
    "    fsm1::Int   # fraction size - 1\n",
    "    ########\n",
    "    es::Int\n",
    "    fs::Int\n",
    "    bias::Int\n",
    "\n",
    "    Unum(s, e, f, u, esm1, fsm1) = new(s, e, f, u, esm1, fsm1, esm1+1, fsm1+1, 2^esm1-1)\n",
    "end"
   ]
  },
  {
   "cell_type": "code",
   "execution_count": 2,
   "metadata": {
    "collapsed": false
   },
   "outputs": [
    {
     "data": {
      "text/plain": [
       "sign (generic function with 8 methods)"
      ]
     },
     "execution_count": 2,
     "metadata": {},
     "output_type": "execute_result"
    }
   ],
   "source": [
    "Base.sign(u::Unum) = u.s == 0 ? +1 : -1"
   ]
  },
  {
   "cell_type": "code",
   "execution_count": 3,
   "metadata": {
    "collapsed": false
   },
   "outputs": [
    {
     "data": {
      "text/plain": [
       "(2,2)"
      ]
     },
     "execution_count": 3,
     "metadata": {},
     "output_type": "execute_result"
    }
   ],
   "source": [
    "esizesize,fsizesize = 2, 2  # utag = [esizesize, fsizesize]"
   ]
  },
  {
   "cell_type": "code",
   "execution_count": 4,
   "metadata": {
    "collapsed": false
   },
   "outputs": [
    {
     "data": {
      "text/plain": [
       "Unum(0,0,0,0,0,0,1,1,0)"
      ]
     },
     "execution_count": 4,
     "metadata": {},
     "output_type": "execute_result"
    }
   ],
   "source": [
    "u = Unum(0, 0, 0, 0, 0, 0)"
   ]
  },
  {
   "cell_type": "code",
   "execution_count": 5,
   "metadata": {
    "collapsed": false
   },
   "outputs": [
    {
     "data": {
      "text/plain": [
       "convert (generic function with 535 methods)"
      ]
     },
     "execution_count": 5,
     "metadata": {},
     "output_type": "execute_result"
    }
   ],
   "source": [
    "function call(::Type{Float64}, u::Unum)\n",
    "    denominator = 1 << u.fs\n",
    "    \n",
    "    if u.e == 0 \n",
    "        sign(u) * 2.0^(1-u.bias) * u.f / denominator  # assumes u.s is 0 or 1\n",
    "        \n",
    "    elseif u.e == 1<<u.es-1 && u.f==1<<u.fs-1 && es==(1<<esizesize) && fs==(1<<fsizesize)\n",
    "        # not efficient!\n",
    "        sign(u) * Inf\n",
    "        \n",
    "    else\n",
    "        sign(u) * 2.0^(u.e-u.bias) * (1.0 + u.f/denominator)\n",
    "    end\n",
    "    \n",
    "end\n",
    "\n",
    "Base.convert(::Type{Float64}, u::Unum) = Float64(u)"
   ]
  },
  {
   "cell_type": "code",
   "execution_count": 6,
   "metadata": {
    "collapsed": false
   },
   "outputs": [
    {
     "data": {
      "text/plain": [
       "0.375"
      ]
     },
     "execution_count": 6,
     "metadata": {},
     "output_type": "execute_result"
    }
   ],
   "source": [
    "convert(Float64,Unum(0,1,1,0,2,0))"
   ]
  },
  {
   "cell_type": "code",
   "execution_count": 7,
   "metadata": {
    "collapsed": false
   },
   "outputs": [
    {
     "data": {
      "text/plain": [
       "0.375"
      ]
     },
     "execution_count": 7,
     "metadata": {},
     "output_type": "execute_result"
    }
   ],
   "source": [
    "Float64(Unum(0,1,1,0,2,0))"
   ]
  },
  {
   "cell_type": "code",
   "execution_count": 8,
   "metadata": {
    "collapsed": false
   },
   "outputs": [
    {
     "name": "stdout",
     "output_type": "stream",
     "text": [
      "0//"
     ]
    }
   ],
   "source": [
    "esizesize, fsizesize = 2, 2\n",
    "es = 1 << esizesize\n",
    "fs = 1 << fsizesize\n",
    "\n",
    "unums = vec([Unum(0, e, f, 0, es-1, fs-1) for e=0:2^es-1, f=0:2^fs-1])\n",
    "\n",
    "nums = map(Float64, unums)\n",
    "sort!(nums)\n",
    "\n",
    "for z in nums\n",
    "    print(rationalize(z), \", \")\n",
    "end"
   ]
  },
  {
   "cell_type": "code",
   "execution_count": 9,
   "metadata": {
    "collapsed": false
   },
   "outputs": [
    {
     "data": {
      "text/plain": [
       "256"
      ]
     },
     "execution_count": 9,
     "metadata": {},
     "output_type": "execute_result"
    }
   ],
   "source": [
    "length(nums)"
   ]
  },
  {
   "cell_type": "code",
   "execution_count": 10,
   "metadata": {
    "collapsed": false
   },
   "outputs": [
    {
     "name": "stdout",
     "output_type": "stream",
     "text": [
      "1, 1//1024, 1//512, 3//1024, 1//256, 5//1024, 3//512, 7//1024, 1//128, 9//1024, 5//512, 11//1024, 3//256, 13//1024, 7//512, 15//1024, 1//64, 17//1024, 9//512, 19//1024, 5//256, 21//1024, 11//512, 23//1024, 3//128, 25//1024, 13//512, 27//1024, 7//256, 29//1024, 15//512, 31//1024, 1//32, 17//512, 9//256, 19//512, 5//128, 21//512, 11//256, 23//512, 3//64, 25//512, 13//256, 27//512, 7//128, 29//512, 15//256, 31//512, 1//16, 17//256, 9//128, 19//256, 5//64, 21//256, 11//128, 23//256, 3//32, 25//256, 13//128, 27//256, 7//64, 29//256, 15//128, 31//256, 1//8, 17//128, 9//64, 19//128, 5//32, 21//128, 11//64, 23//128, 3//16, 25//128, 13//64, 27//128, 7//32, 29//128, 15//64, 31//128, 1//4, 17//64, 9//32, 19//64, 5//16, 21//64, 11//32, 23//64, 3//8, 25//64, 13//32, 27//64, 7//16, 29//64, 15//32, 31//64, 1//2, 17//32, 9//16, 19//32, 5//8, 21//32, 11//16, 23//32, 3//4, 25//32, 13//16, 27//32, 7//8, 29//32, 15//16, 31//32, 1//1, 17//16, 9//8, 19//16, 5//4, 21//16, 11//8, 23//16, 3//2, 25//16, 13//8, 27//16, 7//4, 29//16, 15//8, 31//16, 2//1, 17//8, 9//4, 19//8, 5//2, 21//8, 11//4, 23//8, 3//1, 25//8, 13//4, 27//8, 7//2, 29//8, 15//4, 31//8, 4//1, 17//4, 9//2, 19//4, 5//1, 21//4, 11//2, 23//4, 6//1, 25//4, 13//2, 27//4, 7//1, 29//4, 15//2, 31//4, 8//1, 17//2, 9//1, 19//2, 10//1, 21//2, 11//1, 23//2, 12//1, 25//2, 13//1, 27//2, 14//1, 29//2, 15//1, 31//2, 16//1, 17//1, 18//1, 19//1, 20//1, 21//1, 22//1, 23//1, 24//1, 25//1, 26//1, 27//1, 28//1, 29//1, 30//1, 31//1, 32//1, 34//1, 36//1, 38//1, 40//1, 42//1, 44//1, 46//1, 48//1, 50//1, 52//1, 54//1, 56//1, 58//1, 60//1, 62//1, 64//1, 68//1, 72//1, 76//1, 80//1, 84//1, 88//1, 92//1, 96//1, 100//1, 104//1, 108//1, 112//1, 116//1, 120//1, 124//1, 128//1, 136//1, 144//1, 152//1, 160//1, 168//1, 176//1, 184//1, 192//1, 200//1, 208//1, 216//1, 224//1, 232//1, 240//1, 248//1, 256//1, 272//1, 288//1, 304//1, 320//1, 336//1, 352//1, 368//1, 384//1, 400//1, 416//1, 432//1, 448//1, 464//1, 480//1, 1//0, "
     ]
    },
    {
     "data": {
      "text/plain": [
       "16-element Array{Any,1}:\n",
       " Rational{Int64}[0//1,1//1024,1//512,3//1024,1//256,5//1024,3//512,7//1024,1//128,9//1024,5//512,11//1024,3//256,13//1024,7//512,15//1024]         \n",
       " Rational{Int64}[1//64,17//1024,9//512,19//1024,5//256,21//1024,11//512,23//1024,3//128,25//1024,13//512,27//1024,7//256,29//1024,15//512,31//1024]\n",
       " Rational{Int64}[1//32,17//512,9//256,19//512,5//128,21//512,11//256,23//512,3//64,25//512,13//256,27//512,7//128,29//512,15//256,31//512]         \n",
       " Rational{Int64}[1//16,17//256,9//128,19//256,5//64,21//256,11//128,23//256,3//32,25//256,13//128,27//256,7//64,29//256,15//128,31//256]           \n",
       " Rational{Int64}[1//8,17//128,9//64,19//128,5//32,21//128,11//64,23//128,3//16,25//128,13//64,27//128,7//32,29//128,15//64,31//128]                \n",
       " Rational{Int64}[1//4,17//64,9//32,19//64,5//16,21//64,11//32,23//64,3//8,25//64,13//32,27//64,7//16,29//64,15//32,31//64]                         \n",
       " Rational{Int64}[1//2,17//32,9//16,19//32,5//8,21//32,11//16,23//32,3//4,25//32,13//16,27//32,7//8,29//32,15//16,31//32]                           \n",
       " Rational{Int64}[1//1,17//16,9//8,19//16,5//4,21//16,11//8,23//16,3//2,25//16,13//8,27//16,7//4,29//16,15//8,31//16]                               \n",
       " Rational{Int64}[2//1,17//8,9//4,19//8,5//2,21//8,11//4,23//8,3//1,25//8,13//4,27//8,7//2,29//8,15//4,31//8]                                       \n",
       " Rational{Int64}[4//1,17//4,9//2,19//4,5//1,21//4,11//2,23//4,6//1,25//4,13//2,27//4,7//1,29//4,15//2,31//4]                                       \n",
       " Rational{Int64}[8//1,17//2,9//1,19//2,10//1,21//2,11//1,23//2,12//1,25//2,13//1,27//2,14//1,29//2,15//1,31//2]                                    \n",
       " Rational{Int64}[16//1,17//1,18//1,19//1,20//1,21//1,22//1,23//1,24//1,25//1,26//1,27//1,28//1,29//1,30//1,31//1]                                  \n",
       " Rational{Int64}[32//1,34//1,36//1,38//1,40//1,42//1,44//1,46//1,48//1,50//1,52//1,54//1,56//1,58//1,60//1,62//1]                                  \n",
       " Rational{Int64}[64//1,68//1,72//1,76//1,80//1,84//1,88//1,92//1,96//1,100//1,104//1,108//1,112//1,116//1,120//1,124//1]                           \n",
       " Rational{Int64}[128//1,136//1,144//1,152//1,160//1,168//1,176//1,184//1,192//1,200//1,208//1,216//1,224//1,232//1,240//1,248//1]                  \n",
       " Rational{Int64}[256//1,272//1,288//1,304//1,320//1,336//1,352//1,368//1,384//1,400//1,416//1,432//1,448//1,464//1,480//1,1//0]                    "
      ]
     },
     "execution_count": 10,
     "metadata": {},
     "output_type": "execute_result"
    }
   ],
   "source": [
    "table = Vector{Float64}[]\n",
    "for e in 0 : 2^es-1\n",
    "    push!(table, [Float64(Unum(0, e, f, 0, es-1, fs-1)) for f in 0 : 2^fs-1])\n",
    "end\n",
    "[map(rationalize, x) for x in table]"
   ]
  },
  {
   "cell_type": "code",
   "execution_count": 11,
   "metadata": {
    "collapsed": false
   },
   "outputs": [
    {
     "data": {
      "text/plain": [
       "256"
      ]
     },
     "execution_count": 11,
     "metadata": {},
     "output_type": "execute_result"
    }
   ],
   "source": [
    "length(nums)"
   ]
  },
  {
   "cell_type": "code",
   "execution_count": 12,
   "metadata": {
    "collapsed": false
   },
   "outputs": [
    {
     "data": {
      "text/plain": [
       "true"
      ]
     },
     "execution_count": 12,
     "metadata": {},
     "output_type": "execute_result"
    }
   ],
   "source": [
    "2 in nums"
   ]
  },
  {
   "cell_type": "code",
   "execution_count": 13,
   "metadata": {
    "collapsed": false
   },
   "outputs": [
    {
     "name": "stderr",
     "output_type": "stream",
     "text": [
      "WARNING: using PyPlot.table in module Main conflicts with an existing identifier.\n"
     ]
    }
   ],
   "source": [
    "using PyPlot"
   ]
  },
  {
   "cell_type": "code",
   "execution_count": 14,
   "metadata": {
    "collapsed": false
   },
   "outputs": [
    {
     "data": {
      "image/png": "[encoded data removed]",
      "text/plain": [
       "PyPlot.Figure(PyObject <matplotlib.figure.Figure object at 0x31f0baa50>)"
      ]
     },
     "metadata": {},
     "output_type": "display_data"
    },
    {
     "data": {
      "text/plain": [
       "1-element Array{Any,1}:\n",
       " PyObject <matplotlib.lines.Line2D object at 0x31f5f1250>"
      ]
     },
     "execution_count": 14,
     "metadata": {},
     "output_type": "execute_result"
    }
   ],
   "source": [
    "plot(nums, \"*\")"
   ]
  },
  {
   "cell_type": "code",
   "execution_count": 15,
   "metadata": {
    "collapsed": false
   },
   "outputs": [
    {
     "data": {
      "image/png": "[encoded data removed]",
      "text/plain": [
       "PyPlot.Figure(PyObject <matplotlib.figure.Figure object at 0x31f59aa50>)"
      ]
     },
     "metadata": {},
     "output_type": "display_data"
    },
    {
     "data": {
      "text/plain": [
       "PyObject <matplotlib.collections.LineCollection object at 0x31f5a8dd0>"
      ]
     },
     "execution_count": 15,
     "metadata": {},
     "output_type": "execute_result"
    }
   ],
   "source": [
    "plot(log2(nums), \"*\", markersize=2)\n",
    "hlines([0], 0, length(nums))"
   ]
  },
  {
   "cell_type": "code",
   "execution_count": 16,
   "metadata": {
    "collapsed": false
   },
   "outputs": [
    {
     "data": {
      "text/plain": [
       "(256,)"
      ]
     },
     "execution_count": 16,
     "metadata": {},
     "output_type": "execute_result"
    }
   ],
   "source": [
    "size(nums)"
   ]
  },
  {
   "cell_type": "code",
   "execution_count": 17,
   "metadata": {
    "collapsed": false
   },
   "outputs": [],
   "source": [
    "integer_indices = Bool[isinteger(zz) for zz in nums];"
   ]
  },
  {
   "cell_type": "code",
   "execution_count": 18,
   "metadata": {
    "collapsed": false
   },
   "outputs": [
    {
     "name": "stdout",
     "output_type": "stream",
     "text": [
      "[0"
     ]
    }
   ],
   "source": [
    "showall(map(Int, nums[integer_indices]))"
   ]
  },
  {
   "cell_type": "markdown",
   "metadata": {},
   "source": [
    "# Extract bits from Float64 "
   ]
  },
  {
   "cell_type": "code",
   "execution_count": 19,
   "metadata": {
    "collapsed": false
   },
   "outputs": [
    {
     "data": {
      "text/plain": [
       "0.125"
      ]
     },
     "execution_count": 19,
     "metadata": {},
     "output_type": "execute_result"
    }
   ],
   "source": [
    "x = 0.125"
   ]
  },
  {
   "cell_type": "code",
   "execution_count": 20,
   "metadata": {
    "collapsed": false
   },
   "outputs": [
    {
     "data": {
      "text/plain": [
       "\"0011111111000000000000000000000000000000000000000000000000000000\""
      ]
     },
     "execution_count": 20,
     "metadata": {},
     "output_type": "execute_result"
    }
   ],
   "source": [
    "bits(x)"
   ]
  },
  {
   "cell_type": "code",
   "execution_count": 21,
   "metadata": {
    "collapsed": false
   },
   "outputs": [
    {
     "name": "stdout",
     "output_type": "stream",
     "text": [
      ",1,2,3,4,5,6,7,8,9,10,11,12,13,14,15,16,17,18,19,20,21,22,23,24,25,26,27,28,29,30,31,32,34,36,38,40,42,44,46,48,50,52,54,56,58,60,62,64,68,72,76,80,84,88,92,96,100,104,108,112,116,120,124,128,136,144,152,160,168,176,184,192,200,208,216,224,232,240,248,256,272,288,304,320,336,352,368,384,400,416,432,448,464,480]"
     ]
    },
    {
     "data": {
      "text/plain": [
       "-3"
      ]
     },
     "execution_count": 21,
     "metadata": {},
     "output_type": "execute_result"
    }
   ],
   "source": [
    "exponent(x)"
   ]
  },
  {
   "cell_type": "code",
   "execution_count": 22,
   "metadata": {
    "collapsed": false
   },
   "outputs": [
    {
     "data": {
      "text/html": [
       "exponent<i>{T<:AbstractFloat}</i>(x::<b>T<:AbstractFloat</b>) at <a href=\"https://github.com/JuliaLang/julia/tree/0ff703b40afddf9b705bd6a06d3a59cb4c089ea5/base/math.jl#L199\" target=\"_blank\">math.jl:199</a>"
      ],
      "text/plain": [
       "exponent{T<:AbstractFloat}(x::T<:AbstractFloat) at math.jl:199"
      ]
     },
     "execution_count": 22,
     "metadata": {},
     "output_type": "execute_result"
    }
   ],
   "source": [
    "@which exponent(x)"
   ]
  },
  {
   "cell_type": "code",
   "execution_count": 23,
   "metadata": {
    "collapsed": false
   },
   "outputs": [
    {
     "data": {
      "text/plain": [
       "1.0"
      ]
     },
     "execution_count": 23,
     "metadata": {},
     "output_type": "execute_result"
    }
   ],
   "source": [
    "significand(x)"
   ]
  },
  {
   "cell_type": "code",
   "execution_count": 24,
   "metadata": {
    "collapsed": false
   },
   "outputs": [
    {
     "ename": "LoadError",
     "evalue": "LoadError: MethodError: `significand_bits` has no method matching significand_bits(::Float64)\nwhile loading In[24], in expression starting on line 1",
     "output_type": "error",
     "traceback": [
      "LoadError: MethodError: `significand_bits` has no method matching significand_bits(::Float64)\nwhile loading In[24], in expression starting on line 1",
      ""
     ]
    }
   ],
   "source": [
    "Base.significand_bits(x)"
   ]
  },
  {
   "cell_type": "code",
   "execution_count": 25,
   "metadata": {
    "collapsed": false
   },
   "outputs": [
    {
     "data": {
      "text/plain": [
       "0x000fffffffffffff"
      ]
     },
     "execution_count": 25,
     "metadata": {},
     "output_type": "execute_result"
    }
   ],
   "source": [
    "Base.significand_mask(Float64)"
   ]
  },
  {
   "cell_type": "code",
   "execution_count": 26,
   "metadata": {
    "collapsed": false
   },
   "outputs": [
    {
     "data": {
      "text/plain": [
       "0x0000000000000000"
      ]
     },
     "execution_count": 26,
     "metadata": {},
     "output_type": "execute_result"
    }
   ],
   "source": [
    "reinterpret(Int64, x) & Base.significand_mask(Float64)"
   ]
  },
  {
   "cell_type": "code",
   "execution_count": 27,
   "metadata": {
    "collapsed": false
   },
   "outputs": [
    {
     "data": {
      "text/plain": [
       "0.625"
      ]
     },
     "execution_count": 27,
     "metadata": {},
     "output_type": "execute_result"
    }
   ],
   "source": [
    "y = 2.0^(-1) + 2.0^(-3)"
   ]
  },
  {
   "cell_type": "code",
   "execution_count": 28,
   "metadata": {
    "collapsed": false
   },
   "outputs": [
    {
     "data": {
      "text/plain": [
       "(1.25,-1)"
      ]
     },
     "execution_count": 28,
     "metadata": {},
     "output_type": "execute_result"
    }
   ],
   "source": [
    "significand(y), exponent(y)"
   ]
  },
  {
   "cell_type": "code",
   "execution_count": 29,
   "metadata": {
    "collapsed": false
   },
   "outputs": [
    {
     "data": {
      "text/plain": [
       "true"
      ]
     },
     "execution_count": 29,
     "metadata": {},
     "output_type": "execute_result"
    }
   ],
   "source": [
    "significand(y) * 2.0^(exponent(y)) == y"
   ]
  },
  {
   "cell_type": "code",
   "execution_count": 30,
   "metadata": {
    "collapsed": false
   },
   "outputs": [
    {
     "data": {
      "text/plain": [
       "true"
      ]
     },
     "execution_count": 30,
     "metadata": {},
     "output_type": "execute_result"
    }
   ],
   "source": [
    "ldexp(significand(y), exponent(y)) == y"
   ]
  },
  {
   "cell_type": "code",
   "execution_count": 31,
   "metadata": {
    "collapsed": false
   },
   "outputs": [
    {
     "data": {
      "text/plain": [
       "\"0000000000000100000000000000000000000000000000000000000000000000\""
      ]
     },
     "execution_count": 31,
     "metadata": {},
     "output_type": "execute_result"
    }
   ],
   "source": [
    "bits(reinterpret(Int64, y) & Base.significand_mask(Float64))"
   ]
  },
  {
   "cell_type": "code",
   "execution_count": 32,
   "metadata": {
    "collapsed": false
   },
   "outputs": [
    {
     "data": {
      "text/plain": [
       "50"
      ]
     },
     "execution_count": 32,
     "metadata": {},
     "output_type": "execute_result"
    }
   ],
   "source": [
    "trailing_zeros(reinterpret(Int64, y) & Base.significand_mask(Float64))"
   ]
  },
  {
   "cell_type": "code",
   "execution_count": 33,
   "metadata": {
    "collapsed": false
   },
   "outputs": [
    {
     "data": {
      "text/plain": [
       "52"
      ]
     },
     "execution_count": 33,
     "metadata": {},
     "output_type": "execute_result"
    }
   ],
   "source": [
    "Base.significand_bits(Float64)"
   ]
  },
  {
   "cell_type": "code",
   "execution_count": 34,
   "metadata": {
    "collapsed": true
   },
   "outputs": [],
   "source": [
    "import Base: significand_bits"
   ]
  },
  {
   "cell_type": "code",
   "execution_count": 35,
   "metadata": {
    "collapsed": false
   },
   "outputs": [
    {
     "data": {
      "text/plain": [
       "significand_bits (generic function with 2 methods)"
      ]
     },
     "execution_count": 35,
     "metadata": {},
     "output_type": "execute_result"
    }
   ],
   "source": [
    "significand_bits(x::Float64) = reinterpret(Int64, x) & Base.significand_mask(Float64)"
   ]
  },
  {
   "cell_type": "code",
   "execution_count": 36,
   "metadata": {
    "collapsed": false
   },
   "outputs": [
    {
     "data": {
      "text/html": [
       "2 methods for generic function <b>significand_bits</b>:<ul><li> significand_bits<i>{T<:AbstractFloat}</i>(::<b>Type{T<:AbstractFloat}</b>) at <a href=\"https://github.com/JuliaLang/julia/tree/0ff703b40afddf9b705bd6a06d3a59cb4c089ea5/base/float.jl#L452\" target=\"_blank\">float.jl:452</a><li> significand_bits(x::<b>Float64</b>) at In[35]:1</ul>"
      ],
      "text/plain": [
       "# 2 methods for generic function \"significand_bits\":\n",
       "significand_bits{T<:AbstractFloat}(::Type{T<:AbstractFloat}) at float.jl:452\n",
       "significand_bits(x::Float64) at In[35]:1"
      ]
     },
     "execution_count": 36,
     "metadata": {},
     "output_type": "execute_result"
    }
   ],
   "source": [
    "methods(significand_bits)"
   ]
  },
  {
   "cell_type": "code",
   "execution_count": 37,
   "metadata": {
    "collapsed": false
   },
   "outputs": [
    {
     "data": {
      "text/plain": [
       "num_significand_bits (generic function with 1 method)"
      ]
     },
     "execution_count": 37,
     "metadata": {},
     "output_type": "execute_result"
    }
   ],
   "source": [
    "function num_significand_bits(x::Float64) \n",
    "    \n",
    "    trailing = trailing_zeros(significand_bits(x))\n",
    "    \n",
    "    trailing < 64 ? 53-trailing : 0   # trailing is 64 for e.g. 8.0\n",
    "end\n",
    "\n",
    "    "
   ]
  },
  {
   "cell_type": "code",
   "execution_count": 38,
   "metadata": {
    "collapsed": false
   },
   "outputs": [
    {
     "data": {
      "text/plain": [
       "3"
      ]
     },
     "execution_count": 38,
     "metadata": {},
     "output_type": "execute_result"
    }
   ],
   "source": [
    "num_significand_bits(0.625)"
   ]
  },
  {
   "cell_type": "code",
   "execution_count": 39,
   "metadata": {
    "collapsed": false
   },
   "outputs": [
    {
     "data": {
      "text/plain": [
       "0"
      ]
     },
     "execution_count": 39,
     "metadata": {},
     "output_type": "execute_result"
    }
   ],
   "source": [
    "num_significand_bits(4.0)"
   ]
  },
  {
   "cell_type": "code",
   "execution_count": 40,
   "metadata": {
    "collapsed": false
   },
   "outputs": [
    {
     "data": {
      "text/plain": [
       "4"
      ]
     },
     "execution_count": 40,
     "metadata": {},
     "output_type": "execute_result"
    }
   ],
   "source": [
    "max_exponent_size = 1 << esizesize\n",
    "max_exponent = 1 << max_exponent_size\n",
    "\n",
    "maxbias = 1 << (max_exponent_size-1)\n",
    "\n",
    "min_exponent = 0 - maxbias\n",
    "max_exponent = max_exponent - maxbias\n",
    "\n",
    "min_exponent, max_exponent\n",
    "\n",
    "max_num_bits_significand = 1 << fsizesize"
   ]
  },
  {
   "cell_type": "code",
   "execution_count": 41,
   "metadata": {
    "collapsed": false
   },
   "outputs": [
    {
     "data": {
      "text/plain": [
       "is_unum_representable (generic function with 1 method)"
      ]
     },
     "execution_count": 41,
     "metadata": {},
     "output_type": "execute_result"
    }
   ],
   "source": [
    "function is_unum_representable(x::Float64)\n",
    "    @show num_sig_bits = num_significand_bits(x)\n",
    "    @show expo = exponent(x)\n",
    "    \n",
    "    num_sig_bits < (1 << fsizesize) && min_exponent < expo < max_exponent\n",
    "end"
   ]
  },
  {
   "cell_type": "code",
   "execution_count": 42,
   "metadata": {
    "collapsed": false
   },
   "outputs": [
    {
     "name": "stdout",
     "output_type": "stream",
     "text": [
      "num_sig_bits = num_significand_bits(x) = 3"
     ]
    },
    {
     "data": {
      "text/plain": [
       "true"
      ]
     },
     "execution_count": 42,
     "metadata": {},
     "output_type": "execute_result"
    }
   ],
   "source": [
    "is_unum_representable(0.625)"
   ]
  },
  {
   "cell_type": "code",
   "execution_count": 43,
   "metadata": {
    "collapsed": false
   },
   "outputs": [
    {
     "data": {
      "text/plain": [
       "true"
      ]
     },
     "execution_count": 43,
     "metadata": {},
     "output_type": "execute_result"
    }
   ],
   "source": [
    "is_unum_representable(8.0)"
   ]
  },
  {
   "cell_type": "code",
   "execution_count": 44,
   "metadata": {
    "collapsed": false
   },
   "outputs": [
    {
     "data": {
      "text/plain": [
       "false"
      ]
     },
     "execution_count": 44,
     "metadata": {},
     "output_type": "execute_result"
    }
   ],
   "source": [
    "is_unum_representable(float(pi))"
   ]
  },
  {
   "cell_type": "code",
   "execution_count": 45,
   "metadata": {
    "collapsed": false
   },
   "outputs": [
    {
     "data": {
      "text/plain": [
       "\"0100000000001001001000011111101101010100010001000010110100011000\""
      ]
     },
     "execution_count": 45,
     "metadata": {},
     "output_type": "execute_result"
    }
   ],
   "source": [
    "bits(float(pi))"
   ]
  },
  {
   "cell_type": "code",
   "execution_count": null,
   "metadata": {
    "collapsed": true
   },
   "outputs": [],
   "source": []
  },
  {
   "cell_type": "code",
   "execution_count": 46,
   "metadata": {
    "collapsed": false
   },
   "outputs": [
    {
     "data": {
      "text/plain": [
       "Unum"
      ]
     },
     "execution_count": 46,
     "metadata": {},
     "output_type": "execute_result"
    },
    {
     "name": "stdout",
     "output_type": "stream",
     "text": [
      "\n",
      "expo = exponent(x) = -1\n",
      "num_sig_bits = num_significand_bits(x) = 0\n",
      "expo = exponent(x) = 3\n",
      "num_sig_bits = num_significand_bits(x) = 50\n",
      "expo = exponent(x) = 1\n"
     ]
    }
   ],
   "source": [
    "function Unum(x::Float64)\n",
    "    \n",
    "    @show num_sig_bits = num_significand_bits(x)\n",
    "    @show expo = exponent(x)\n",
    "    \n",
    "    if min_exponent < expo < max_exponent\n",
    "        e = expo  # change this to use min number of bits\n",
    "        \n",
    "    else \n",
    "        error(\"Exponent out of bounds\")  # too big or too small -- CHANGE to 0+ or Inf\n",
    "    end\n",
    "    \n",
    "    signif = reinterpret(UInt64, significand(x))\n",
    "    if num_sig_bits <= (1 << fsizesize)\n",
    "        u = 0\n",
    "    else\n",
    "        u = 1\n",
    "\n",
    "    end\n",
    "    \n",
    "    f = signif >> (52 - max_num_bits_significand)  # change this to use minimum\n",
    "\n",
    "    s = sign(x)    # sign\n",
    "\n",
    "    esm1 = (1 << esizesize) - 1   # CHANGE!\n",
    "    fsm1 = (1 << fsizesize) - 1   # CHANGE!\n",
    "    \n",
    "    Unum(s, e, f, u, esm1, fsm1)\n",
    "    \n",
    "end"
   ]
  },
  {
   "cell_type": "code",
   "execution_count": 47,
   "metadata": {
    "collapsed": false
   },
   "outputs": [
    {
     "name": "stdout",
     "output_type": "stream",
     "text": [
      "num_sig_bits = num_significand_bits(x) = 3"
     ]
    },
    {
     "data": {
      "text/plain": [
       "Unum(1,-1,16372,0,3,3,4,4,7)"
      ]
     },
     "execution_count": 47,
     "metadata": {},
     "output_type": "execute_result"
    },
    {
     "name": "stdout",
     "output_type": "stream",
     "text": [
      "\n",
      "expo = exponent(x) = -1\n"
     ]
    }
   ],
   "source": [
    "Unum(0.625)"
   ]
  },
  {
   "cell_type": "code",
   "execution_count": 49,
   "metadata": {
    "collapsed": false
   },
   "outputs": [
    {
     "data": {
      "text/plain": [
       "-4.0009765625"
      ]
     },
     "execution_count": 49,
     "metadata": {},
     "output_type": "execute_result"
    }
   ],
   "source": [
    "Float64(ans)"
   ]
  },
  {
   "cell_type": "code",
   "execution_count": null,
   "metadata": {
    "collapsed": true
   },
   "outputs": [],
   "source": []
  }
 ],
 "metadata": {
  "kernelspec": {
   "display_name": "Julia 0.4.0",
   "language": "julia",
   "name": "julia-0.4"
  },
  "language_info": {
   "file_extension": ".jl",
   "mimetype": "application/julia",
   "name": "julia",
   "version": "0.4.0"
  }
 },
 "nbformat": 4,
 "nbformat_minor": 0
}
