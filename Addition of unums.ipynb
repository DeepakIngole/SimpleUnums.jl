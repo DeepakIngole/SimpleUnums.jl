{
 "cells": [
  {
   "cell_type": "markdown",
   "metadata": {},
   "source": [
    "How to add two floating point numbers:"
   ]
  },
  {
   "cell_type": "markdown",
   "metadata": {},
   "source": [
    "$$\\newcommand{\\fs}{\\mathrm{fs}}$$\n",
    "$$a_1 = 2^{e_1} \\left( 1 + \\frac{f_1}{2^{\\fs_1}} \\right)$$\n",
    "$$a_2 = 2^{e_2} \\left( 1 + \\frac{f_2}{2^{\\fs_2}} \\right)$$\n",
    "\n",
    "WLOG assume $e_1 \\ge e_2$"
   ]
  },
  {
   "cell_type": "markdown",
   "metadata": {},
   "source": [
    "$$a_1 + a_2 = 2^{e_1} \\left[ 1 + \\frac{f_1}{2^{\\fs_1}} + 2^{e_2-e_1} \\left( 1 + \\frac{f_2}{2^{\\fs_2}} \\right) \\right]$$"
   ]
  },
  {
   "cell_type": "markdown",
   "metadata": {},
   "source": [
    "Take a common fs, called  $m := \\max \\{ \\fs_1, \\fs_2 \\}$, i.e. replace $f_1 / 2^{\\fs_1}$ by $f_1.2^{d_1} / 2^m$, where $d_1 := m - \\fs_1$. Call the new $f_1$ and $f_2$ by the same names ($f_1$ and $f_2$). [Strictly, $f_1' := f_1. 2^d_1$.] Then"
   ]
  },
  {
   "cell_type": "markdown",
   "metadata": {},
   "source": [
    "$$a_1 + a_2 = 2^{e_1} \\left[ 1 + \\frac{f_1}{2^{m}} + 2^{e_2-e_1} \\left( 1 + \\frac{f_2}{2^{m}} \\right) \\right]$$"
   ]
  },
  {
   "cell_type": "markdown",
   "metadata": {},
   "source": [
    "$$a_1 + a_2 = 2^{e_1} \\left[ 1 + \\frac{f_1}{2^{m}} + \\frac{1}{2^{e_1-e_2}} + \\frac{f_2}{2^{m + e_1 - e_2}} \\right]$$"
   ]
  },
  {
   "cell_type": "markdown",
   "metadata": {},
   "source": [
    "$$a_1 + a_2 = 2^{e_1} \\left[ 1 + \\frac{ f_1 . 2^{e_1-e_2} + 2^m + f_2 }{ 2^{m+e_1-e_2} }   \\right]$$"
   ]
  },
  {
   "cell_type": "markdown",
   "metadata": {},
   "source": [
    "If, after cancelling common factors of two,  the denominator is $\\le 2^\\mathrm{fsizesize}$ then it is exactly representable."
   ]
  },
  {
   "cell_type": "code",
   "execution_count": 2,
   "metadata": {
    "collapsed": false
   },
   "outputs": [
    {
     "data": {
      "text/plain": [
       "+ (generic function with 172 methods)"
      ]
     },
     "execution_count": 2,
     "metadata": {},
     "output_type": "execute_result"
    }
   ],
   "source": [
    "include(\"SimpleUnums.jl\")"
   ]
  },
  {
   "cell_type": "code",
   "execution_count": 4,
   "metadata": {
    "collapsed": false
   },
   "outputs": [],
   "source": [
    "import Base: +"
   ]
  },
  {
   "cell_type": "code",
   "execution_count": 125,
   "metadata": {
    "collapsed": false
   },
   "outputs": [
    {
     "data": {
      "text/plain": [
       "+ (generic function with 172 methods)"
      ]
     },
     "execution_count": 125,
     "metadata": {},
     "output_type": "execute_result"
    }
   ],
   "source": [
    "function +(a1::Unum, a2::Unum)\n",
    "    \n",
    "    if a2.e > a1.e\n",
    "        a1, a2 = a2, a1\n",
    "    end\n",
    "    \n",
    "    e1, f1, fs1 = a1.e, a1.f, a1.fs\n",
    "    e2, f2, fs2 = a2.e, a2.f, a2.fs\n",
    "    \n",
    "    e1 -= (2^a1.esm1 - 1)  # bias\n",
    "    e2 -= (2^a2.esm1 - 1)\n",
    "    \n",
    "    m = max(fs1, fs2)\n",
    "    \n",
    "    if m > fs1\n",
    "        f1 *= (m / fs1)\n",
    "    end\n",
    "    \n",
    "    if m > fs2\n",
    "        f2 *= (m / fs2)\n",
    "    end\n",
    "    \n",
    "    @show f1, fs1, f2, fs2, e1, e2\n",
    "    \n",
    "    new_f = f1*2^(e1-e2) + 2^m + f2\n",
    "    new_fs = m + e1 - e2\n",
    "    \n",
    "    @show new_f, new_fs\n",
    "    @show 2^e1 * (1 + new_f / 2^new_fs)\n",
    "    \n",
    "    if new_f > 2^new_fs\n",
    "        new_f -= 2^new_fs\n",
    "        \n",
    "        new_fs += 1\n",
    "        e1 += 1\n",
    "    end\n",
    "    \n",
    "    Unum(0, e1 + (2^a1.esm1 - 1), new_f, 0, a1.esm1, new_fs-1)\n",
    "    \n",
    "    \n",
    "end"
   ]
  },
  {
   "cell_type": "code",
   "execution_count": 126,
   "metadata": {
    "collapsed": false
   },
   "outputs": [
    {
     "data": {
      "text/plain": [
       "Unum(0,2,1,0,1,0)\n",
       "s: 0; e: 10; f: 1; u: 0; esm1: 01; fsm1: 00\n",
       "  3.0↓\n"
      ]
     },
     "execution_count": 126,
     "metadata": {},
     "output_type": "execute_result"
    }
   ],
   "source": [
    "a = Unum(3)"
   ]
  },
  {
   "cell_type": "code",
   "execution_count": 127,
   "metadata": {
    "collapsed": false
   },
   "outputs": [
    {
     "data": {
      "text/plain": [
       "Unum(0,5,1,0,2,0)\n",
       "s: 0; e: 101; f: 1; u: 0; esm1: 10; fsm1: 00\n",
       "  6.0↓\n"
      ]
     },
     "execution_count": 127,
     "metadata": {},
     "output_type": "execute_result"
    }
   ],
   "source": [
    "b = Unum(6)"
   ]
  },
  {
   "cell_type": "code",
   "execution_count": 128,
   "metadata": {
    "collapsed": false
   },
   "outputs": [
    {
     "name": "stdout",
     "output_type": "stream",
     "text": [
      "(f1,fs1,f2,fs2,e1,e2) = (1,1,1,1,2,1)"
     ]
    },
    {
     "data": {
      "text/plain": [
       "Unum(0,6,1,0,2,2)\n",
       "s: 0; e: 110; f: 001; u: 0; esm1: 10; fsm1: 10\n",
       "  9.0↓\n"
      ]
     },
     "execution_count": 128,
     "metadata": {},
     "output_type": "execute_result"
    },
    {
     "name": "stdout",
     "output_type": "stream",
     "text": [
      "\n",
      "(new_f,new_fs) = (5,2)\n",
      "2 ^ e1 * (1 + new_f / 2 ^ new_fs) = 9.0\n"
     ]
    }
   ],
   "source": [
    "c = a + b"
   ]
  },
  {
   "cell_type": "code",
   "execution_count": 120,
   "metadata": {
    "collapsed": false
   },
   "outputs": [
    {
     "data": {
      "text/plain": [
       "Unum(0,6,1,0,2,2)\n",
       "s: 0; e: 110; f: 001; u: 0; esm1: 10; fsm1: 10\n",
       "  9.0↓\n"
      ]
     },
     "execution_count": 120,
     "metadata": {},
     "output_type": "execute_result"
    }
   ],
   "source": [
    "Unum(9)"
   ]
  },
  {
   "cell_type": "code",
   "execution_count": 130,
   "metadata": {
    "collapsed": false
   },
   "outputs": [
    {
     "name": "stdout",
     "output_type": "stream",
     "text": [
      "(f1,fs1,f2,fs2,e1,e2) = (1,2,1,2,1,1)"
     ]
    },
    {
     "data": {
      "text/plain": [
       "Unum(0,3,2,0,1,2)\n",
       "s: 0; e: 11; f: 010; u: 0; esm1: 01; fsm1: 10\n",
       "  5.0↓\n"
      ]
     },
     "execution_count": 130,
     "metadata": {},
     "output_type": "execute_result"
    },
    {
     "name": "stdout",
     "output_type": "stream",
     "text": [
      "\n",
      "(new_f,new_fs) = (6,2)\n",
      "2 ^ e1 * (1 + new_f / 2 ^ new_fs) = 5.0\n"
     ]
    }
   ],
   "source": [
    "Unum(2.5) + Unum(2.5)"
   ]
  },
  {
   "cell_type": "code",
   "execution_count": null,
   "metadata": {
    "collapsed": true
   },
   "outputs": [],
   "source": []
  }
 ],
 "metadata": {
  "kernelspec": {
   "display_name": "Julia 0.4.1",
   "language": "julia",
   "name": "julia-0.4"
  },
  "language_info": {
   "file_extension": ".jl",
   "mimetype": "application/julia",
   "name": "julia",
   "version": "0.4.1"
  }
 },
 "nbformat": 4,
 "nbformat_minor": 0
}
