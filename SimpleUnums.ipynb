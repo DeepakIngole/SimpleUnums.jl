{
 "cells": [
  {
   "cell_type": "code",
   "execution_count": 2,
   "metadata": {
    "collapsed": false
   },
   "outputs": [
    {
     "data": {
      "text/plain": [
       "get_all_unums (generic function with 1 method)"
      ]
     },
     "execution_count": 2,
     "metadata": {},
     "output_type": "execute_result"
    }
   ],
   "source": [
    "include(\"SimpleUnums.jl\")"
   ]
  },
  {
   "cell_type": "code",
   "execution_count": 3,
   "metadata": {
    "collapsed": false
   },
   "outputs": [
    {
     "data": {
      "text/plain": [
       "0.375"
      ]
     },
     "execution_count": 3,
     "metadata": {},
     "output_type": "execute_result"
    }
   ],
   "source": [
    "u = Unum(0,1,1,0,2,0)\n",
    "\n",
    "Float64(u)"
   ]
  },
  {
   "cell_type": "code",
   "execution_count": 4,
   "metadata": {
    "collapsed": false
   },
   "outputs": [
    {
     "name": "stdout",
     "output_type": "stream",
     "text": [
      "(es,fs) = (4,4)\n",
      "permutation = [1,17,33,49,65,81,97,113,129,145,161,177,193,209,225,241,2,18,34,50,66,82,98,114,130,146,162,178,194,210,226,242,3,19,35,51,67,83,99,115,131,147,163,179,195,211,227,243,4,20,36,52,68,84,100,116,132,148,164,180,196,212,228,244,5,21,37,53,69,85,101,117,133,149,165,181,197,213,229,245,6,22,38,54,70,86,102,118,134,150,166,182,198,214,230,246,7,23,39,55,71,87,103,119,135,151,167,183,199,215,231,247,8,24,40,56,72,88,104,120,136,152,168,184,200,216,232,248,9,25,41,57,73,89,105,121,137,153,169,185,201,217,233,249,10,26,42,58,74,90,106,122,138,154,170,186,202,218,234,250,11,27,43,59,75,91,107,123,139,155,171,187,203,219,235,251,12,28,44,60,76,92,108,124,140,156,172,188,204,220,236,252,13,29,45,61,77,93,109,125,141,157,173,189,205,221,237,253,14,30,46,62,78,94,110,126,142,158,174,190,206,222,238,254,15,31,47,63,79,95,111,127,143,159,175,191,207,223,239,255,16,32,48,64,80,96,112,128,144,160,176,192,208,224,240,256]"
     ]
    },
    {
     "data": {
      "text/plain": [
       "([Unum(0,0,0,0,3,3,4,4,4),Unum(0,0,1,0,3,3,4,4,4),Unum(0,0,2,0,3,3,4,4,4),Unum(0,0,3,0,3,3,4,4,4),Unum(0,0,4,0,3,3,4,4,4),Unum(0,0,5,0,3,3,4,4,4),Unum(0,0,6,0,3,3,4,4,4),Unum(0,0,7,0,3,3,4,4,4),Unum(0,0,8,0,3,3,4,4,4),Unum(0,0,9,0,3,3,4,4,4)  …  Unum(0,15,6,0,3,3,4,4,4),Unum(0,15,7,0,3,3,4,4,4),Unum(0,15,8,0,3,3,4,4,4),Unum(0,15,9,0,3,3,4,4,4),Unum(0,15,10,0,3,3,4,4,4),Unum(0,15,11,0,3,3,4,4,4),Unum(0,15,12,0,3,3,4,4,4),Unum(0,15,13,0,3,3,4,4,4),Unum(0,15,14,0,3,3,4,4,4),Unum(0,15,15,0,3,3,4,4,4)],[0.0,0.0078125,0.015625,0.0234375,0.03125,0.0390625,0.046875,0.0546875,0.0625,0.0703125  …  2816.0,2944.0,3072.0,3200.0,3328.0,3456.0,3584.0,3712.0,3840.0,Inf])"
      ]
     },
     "execution_count": 4,
     "metadata": {},
     "output_type": "execute_result"
    },
    {
     "name": "stdout",
     "output_type": "stream",
     "text": [
      "\n"
     ]
    }
   ],
   "source": [
    "unums, nums = get_all_unums(2, 2)"
   ]
  },
  {
   "cell_type": "code",
   "execution_count": 7,
   "metadata": {
    "collapsed": false
   },
   "outputs": [
    {
     "data": {
      "text/plain": [
       "true"
      ]
     },
     "execution_count": 7,
     "metadata": {},
     "output_type": "execute_result"
    }
   ],
   "source": [
    "nums[10] == Float64(unums[10])"
   ]
  },
  {
   "cell_type": "code",
   "execution_count": 3,
   "metadata": {
    "collapsed": false
   },
   "outputs": [
    {
     "data": {
      "text/plain": [
       "256-element Array{Rational{Int64},1}:\n",
       "   0//1   \n",
       "   1//1024\n",
       "   1//512 \n",
       "   3//1024\n",
       "   1//256 \n",
       "   5//1024\n",
       "   3//512 \n",
       "   7//1024\n",
       "   1//128 \n",
       "   9//1024\n",
       "   5//512 \n",
       "  11//1024\n",
       "   3//256 \n",
       "    ⋮     \n",
       " 320//1   \n",
       " 336//1   \n",
       " 352//1   \n",
       " 368//1   \n",
       " 384//1   \n",
       " 400//1   \n",
       " 416//1   \n",
       " 432//1   \n",
       " 448//1   \n",
       " 464//1   \n",
       " 480//1   \n",
       "   1//0   "
      ]
     },
     "execution_count": 3,
     "metadata": {},
     "output_type": "execute_result"
    }
   ],
   "source": [
    "map(rationalize, unums)"
   ]
  },
  {
   "cell_type": "code",
   "execution_count": 16,
   "metadata": {
    "collapsed": false
   },
   "outputs": [
    {
     "data": {
      "text/plain": [
       "0.375"
      ]
     },
     "execution_count": 16,
     "metadata": {},
     "output_type": "execute_result"
    }
   ],
   "source": [
    "u = Unum(0,1,1,0,2,0)\n",
    "\n",
    "Float64(u)"
   ]
  },
  {
   "cell_type": "code",
   "execution_count": 17,
   "metadata": {
    "collapsed": false
   },
   "outputs": [
    {
     "data": {
      "text/plain": [
       "256-element Array{Float64,1}:\n",
       "   0.0     \n",
       "   0.015625\n",
       "   0.03125 \n",
       "   0.0625  \n",
       "   0.125   \n",
       "   0.25    \n",
       "   0.5     \n",
       "   1.0     \n",
       "   2.0     \n",
       "   4.0     \n",
       "   8.0     \n",
       "  16.0     \n",
       "  32.0     \n",
       "   ⋮       \n",
       "   0.242188\n",
       "   0.484375\n",
       "   0.96875 \n",
       "   1.9375  \n",
       "   3.875   \n",
       "   7.75    \n",
       "  15.5     \n",
       "  31.0     \n",
       "  62.0     \n",
       " 124.0     \n",
       " 248.0     \n",
       " Inf       "
      ]
     },
     "execution_count": 17,
     "metadata": {},
     "output_type": "execute_result"
    }
   ],
   "source": [
    "[Float64(x) for x in unums]"
   ]
  },
  {
   "cell_type": "code",
   "execution_count": 5,
   "metadata": {
    "collapsed": false
   },
   "outputs": [
    {
     "data": {
      "text/plain": [
       "get_all_unums (generic function with 1 method)"
      ]
     },
     "execution_count": 5,
     "metadata": {},
     "output_type": "execute_result"
    }
   ],
   "source": [
    "function get_all_unums(esizesize, fsizesize)\n",
    "\n",
    "    es = 1 << esizesize\n",
    "    fs = 1 << fsizesize\n",
    "\n",
    "    @show es, fs\n",
    "\n",
    "    unums = vec([Unum(0, e, f, 0, es-1, fs-1) for e=0:2^es-1, f=0:2^fs-1])\n",
    "\n",
    "    nums = map(Float64, unums)\n",
    "    permutation = sortperm(nums)\n",
    "\n",
    "    @show permutation\n",
    "\n",
    "    unums = unums[permutation]\n",
    "    nums = nums[permutation]\n",
    "\n",
    "\n",
    "    #nums_unique = unique(nums)\n",
    "\n",
    "    #@show \"Numbers of unums: \", length(nums_unique), length(nums)\n",
    "\n",
    "    unums, nums\n",
    "end"
   ]
  },
  {
   "cell_type": "code",
   "execution_count": 3,
   "metadata": {
    "collapsed": false
   },
   "outputs": [
    {
     "name": "stdout",
     "output_type": "stream",
     "text": [
      "(es,fs) = (4,4)"
     ]
    },
    {
     "ename": "LoadError",
     "evalue": "LoadError: UndefVarError: Unum not defined\nwhile loading In[3], in expression starting on line 1",
     "output_type": "error",
     "traceback": [
      "LoadError: UndefVarError: Unum not defined\nwhile loading In[3], in expression starting on line 1",
      "",
      " [inlined code] from In[2]:8",
      " in get_all_unums at In[2]:127"
     ]
    },
    {
     "name": "stdout",
     "output_type": "stream",
     "text": [
      "\n"
     ]
    }
   ],
   "source": [
    "get_all_unums(2,2)"
   ]
  },
  {
   "cell_type": "code",
   "execution_count": null,
   "metadata": {
    "collapsed": true
   },
   "outputs": [],
   "source": []
  }
 ],
 "metadata": {
  "kernelspec": {
   "display_name": "Julia 0.4.0",
   "language": "julia",
   "name": "julia-0.4"
  },
  "language_info": {
   "file_extension": ".jl",
   "mimetype": "application/julia",
   "name": "julia",
   "version": "0.4.0"
  }
 },
 "nbformat": 4,
 "nbformat_minor": 0
}
