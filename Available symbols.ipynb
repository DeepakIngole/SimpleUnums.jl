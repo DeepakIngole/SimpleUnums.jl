{
 "cells": [
  {
   "cell_type": "code",
   "execution_count": 1,
   "metadata": {
    "collapsed": false
   },
   "outputs": [
    {
     "name": "stderr",
     "output_type": "stream",
     "text": [
      "INFO: Cloning cache of JuliaParser from git://github.com/jakebolewski/JuliaParser.jl.git\n",
      "INFO: Installing JuliaParser v0.6.3\n",
      "INFO: Package database updated\n",
      "INFO: METADATA is out-of-date — you may not have the latest version of JuliaParser\n",
      "INFO: Use `Pkg.update()` to get the latest versions of your packages\n"
     ]
    }
   ],
   "source": [
    "Pkg.add(\"JuliaParser\")"
   ]
  },
  {
   "cell_type": "code",
   "execution_count": 2,
   "metadata": {
    "collapsed": false
   },
   "outputs": [
    {
     "name": "stderr",
     "output_type": "stream",
     "text": [
      "WARNING: Base.Uint32 is deprecated, use UInt32 instead.\n",
      "  likely near /Users/dsanders/.julia/v0.4/JuliaParser/src/lexer.jl:14\n",
      "WARNING: Base.Nothing is deprecated, use Void instead.\n",
      "  likely near /Users/dsanders/.julia/v0.4/JuliaParser/src/lexer.jl:301\n",
      "WARNING: Union(args...) is deprecated, use Union{args...} instead.\n",
      " in depwarn at deprecated.jl:73\n",
      " in call at deprecated.jl:50\n",
      " in include at /Applications/Julia-0.4.0.app/Contents/Resources/julia/lib/julia/sys.dylib\n",
      " in include_from_node1 at /Applications/Julia-0.4.0.app/Contents/Resources/julia/lib/julia/sys.dylib\n",
      " in include at /Applications/Julia-0.4.0.app/Contents/Resources/julia/lib/julia/sys.dylib\n",
      " in include_from_node1 at /Applications/Julia-0.4.0.app/Contents/Resources/julia/lib/julia/sys.dylib\n",
      " in require at /Applications/Julia-0.4.0.app/Contents/Resources/julia/lib/julia/sys.dylib\n",
      " in include_string at loading.jl:266\n",
      " in execute_request_0x535c5df2 at /Users/dsanders/.julia/v0.4/IJulia/src/execute_request.jl:177\n",
      " in eventloop at /Users/dsanders/.julia/v0.4/IJulia/src/IJulia.jl:141\n",
      " in anonymous at task.jl:447\n",
      "while loading /Users/dsanders/.julia/v0.4/JuliaParser/src/lexer.jl, in expression starting on line 301\n",
      "WARNING: Base.String is deprecated, use AbstractString instead.\n",
      "  likely near /Users/dsanders/.julia/v0.4/JuliaParser/src/lexer.jl:303\n",
      "WARNING: Base.String is deprecated, use AbstractString instead.\n",
      "  likely near /Users/dsanders/.julia/v0.4/JuliaParser/src/lexer.jl:303\n",
      "WARNING: Base.String is deprecated, use AbstractString instead.\n",
      "  likely near /Users/dsanders/.julia/v0.4/JuliaParser/src/lexer.jl:314\n",
      "WARNING: Base.String is deprecated, use AbstractString instead.\n",
      "  likely near /Users/dsanders/.julia/v0.4/JuliaParser/src/lexer.jl:384\n",
      "WARNING: Base.String is deprecated, use AbstractString instead.\n",
      "  likely near /Users/dsanders/.julia/v0.4/JuliaParser/src/lexer.jl:395\n",
      "WARNING: Base.String is deprecated, use AbstractString instead.\n",
      "  likely near /Users/dsanders/.julia/v0.4/JuliaParser/src/lexer.jl:406\n",
      "WARNING: Base.String is deprecated, use AbstractString instead.\n",
      "  likely near /Users/dsanders/.julia/v0.4/JuliaParser/src/lexer.jl:406\n",
      "WARNING: Base.String is deprecated, use AbstractString instead.\n",
      "  likely near /Users/dsanders/.julia/v0.4/JuliaParser/src/lexer.jl:412\n",
      "WARNING: Base.String is deprecated, use AbstractString instead.\n",
      "  likely near /Users/dsanders/.julia/v0.4/JuliaParser/src/lexer.jl:420\n",
      "WARNING: Base.String is deprecated, use AbstractString instead.\n",
      "  likely near /Users/dsanders/.julia/v0.4/JuliaParser/src/lexer.jl:438\n",
      "WARNING: Union(args...) is deprecated, use Union{args...} instead.\n",
      " in depwarn at deprecated.jl:73\n",
      " in call at deprecated.jl:50\n",
      " in include at /Applications/Julia-0.4.0.app/Contents/Resources/julia/lib/julia/sys.dylib\n",
      " in include_from_node1 at /Applications/Julia-0.4.0.app/Contents/Resources/julia/lib/julia/sys.dylib\n",
      " in include at /Applications/Julia-0.4.0.app/Contents/Resources/julia/lib/julia/sys.dylib\n",
      " in include_from_node1 at /Applications/Julia-0.4.0.app/Contents/Resources/julia/lib/julia/sys.dylib\n",
      " in require at /Applications/Julia-0.4.0.app/Contents/Resources/julia/lib/julia/sys.dylib\n",
      " in include_string at loading.jl:266\n",
      " in execute_request_0x535c5df2 at /Users/dsanders/.julia/v0.4/IJulia/src/execute_request.jl:177\n",
      " in eventloop at /Users/dsanders/.julia/v0.4/IJulia/src/IJulia.jl:141\n",
      " in anonymous at task.jl:447\n",
      "while loading /Users/dsanders/.julia/v0.4/JuliaParser/src/parser.jl, in expression starting on line 9\n",
      "WARNING: Base.String is deprecated, use AbstractString instead.\n",
      "  likely near /Users/dsanders/.julia/v0.4/JuliaParser/src/parser.jl:1875\n"
     ]
    }
   ],
   "source": [
    "using JuliaParser"
   ]
  },
  {
   "cell_type": "code",
   "execution_count": 19,
   "metadata": {
    "collapsed": false
   },
   "outputs": [],
   "source": [
    "operators = JuliaParser.Lexer.operators\n",
    "operators = map(string, operators)\n",
    "operators = map(UTF8String, operators);"
   ]
  },
  {
   "cell_type": "code",
   "execution_count": 12,
   "metadata": {
    "collapsed": false
   },
   "outputs": [],
   "source": [
    "latex_symbols = Base.REPLCompletions.latex_symbols\n",
    "available_symbols = Set(values(latex_symbols));"
   ]
  },
  {
   "cell_type": "code",
   "execution_count": 21,
   "metadata": {
    "collapsed": false
   },
   "outputs": [],
   "source": [
    "for sym in operators\n",
    "    delete!(available_symbols, sym)\n",
    "end"
   ]
  },
  {
   "cell_type": "code",
   "execution_count": 25,
   "metadata": {
    "collapsed": false
   },
   "outputs": [
    {
     "data": {
      "text/plain": [
       "1908"
      ]
     },
     "execution_count": 25,
     "metadata": {},
     "output_type": "execute_result"
    }
   ],
   "source": [
    "length(available_symbols)"
   ]
  },
  {
   "cell_type": "code",
   "execution_count": 28,
   "metadata": {
    "collapsed": false
   },
   "outputs": [
    {
     "name": "stdout",
     "output_type": "stream",
     "text": [
      "𝞑 𝙐 𝛢 𝖲 𝒆 Œ ⟩ 𝜨 ⋃ ¿ 𝜴 ⦣ ◐ ̸ 𝗿 𝛹 𝕢 ’ 𝘾 𝚿 ∲ ¥ ☆ ⇀ 𝔍 ⟁ 𝛀 ⎔ 𝐫 ⬪ 𝘍 ℍ 𝒿 ⅅ 𝐨 Υ ⁻ ↬ ⇝ ⌿ ⟸ ᵇ Ν 𝑅 𝑩 𝓪 ε 𝝙 ◉ 𝝬 ʰ ⁶ ® ◕ 𝕋 ⬩ 𝛉 ⦫ ⃩ ┙ 𝑸 ⊊︀ 𝙴 ↱ Ƶ 𝖕 ⌋ 𝞽 𝙭 𝖙 𝙃 𝒩 𝐧 𝔵 ⪰̸ 𝓧 𝜜 𝜒 𝞕 § 𝓴 ⇁ 𝗵 ↨ 𝓃 ∁ 𝗓 𝟯 ⨓ 𝑱 𝔣 𝜚 𝑒 𝘵 𝘻 𝐠 ♠ 𝝘 ⋔ Π 𝐵 𝖂 𝗫 ↷ 𝙎 𝑻 𝔯 𝜋 ⎱ 𝑐 𝘷 ↯ 𝐅 ∫ 𝔁 ◆ 𝞟 𝖨 λ ⌝ 𝐖 ˈ 𝚵 ♌ ✠ 𝜗 ▦ 𝖳 𝗟 𝕣 ᴴ 𝛦 ϟ 𝜳 𝔃 𝝲 β 𝟊 𝖭 𝕿 𝞁 ▵ ◡ 𝜞 𝟺 𝞉 ⬕ 𝕎 ⊋︀ 𝝳 𝟀 𝗽 – 𝚐 ◇ 𝐔 ᵘ ⟧ 𝓑 𝝤 ˔ Ŋ ᴱ ▶ 𝒉 𝖔 ◈ ⁗ 𝗲 𝜺 ⇩ ⃭ 𝕲 ‹ Ϙ ɳ ♩ ◴ 𝜓 𝚮 𝛃 𝔞 𝛽 𝒳 𝓛 ⃑ ⦟ 𝗠 ⏟ ∢ 𝘈 𝞺 ⦭ ↿ 𝓙 ⁸ ̃ 𝛪 ▒ 𝒪 ⌕ 𝑁 𝖆 ƞ ⌞ 𝝷 ⤲ 𝞦 ⌬ 𝙘 𝞤 ½ ₌ 𝐕 π ♍ 𝘋 ɹ 𝘓 ∟ ß 𝘹 𝙹 ℯ 𝗮 ◲ ◙ ̒ 𝕬 ↭ 𝐸 𝙀 𝙽 𝙕 𝗣 𝛟 Ⅎ 𝚎 ⇖ 𝒃 ‵   ⧐̸ 𝙟 ∆ 𝖃 ℊ ⬥ 𝓅 𝝃 𝘀 𝓨 ⊤ 𝑂 𝐻 𝝡 𝘡 ₑ ⫆̸ ᶻ ⊯ ʍ ⤬ 𝘆 ⦛ ⨀ 𝓸 ⃮ ◔ 𝙷 𝖘 ⬖ 𝖟 𝖅 𝖠 𝛘 𝞌 𝚈 ⚅ φ ↞ 𝙗 𝑝 □ 𝒁 𝙄 𝞬 ᵃ ⇌ ⇘ ̇ ⌒ 𝕱 𝐼 𝐁 ⌊ ₇ 𝑊 𝝅 ə ℬ ⨘ 𝛠 𝞢 𝘕 𝗴 𝖼 𝟾 ∖ ℝ 𝑎 𝐊 ⚈ 𝗚 ▐ 𝜩 𝟱 ⧆ ↢ 𝜙 𝕶 𝒞 𝟄 ɛ 𝞥 ⇡ 𝔓 𝔥 Θ • 𝔢 ɱ 𝚆 𝖢 𝚺 ⬢ ‴ 𝐰 ≾̸ ⟦ 𝖽 ⨿ 𝓾 𝗇 𝞡 𝜐 ℚ 𝗩 ⁹ ◊ 𝜲 𝒀 Χ 𝚣 ₛ ⧋ ⇙ 𝛒 ⨒ 𝓢 ᵗ 𝛴 𝘁 𝞈 𝐈 ⌂ ᴾ 𝖞 ⊐̸ 𝖯 ⚫ ◍ 𝝫 ᵋ ⟘ 𝟐 𝛬 ⬗ 𝑹 𝜁 𝐋 ░ 𝕏 ↧ ʋ 𝟭 å ⬒ 𝒍 𝛆 ℂ ℜ ̂ ᴮ ᵖ 𝜹 ∠ 𝖊 𝘪 ⫴ ⏤ 𝞚 ⦩ ̪ 𝕘 ₐ 𝖒 𝝑 ⊺ 𝕨 𝘰 ⦦ 𝟕 𝝀 𝑽 𝒯 𝕂 ʌ ⨜ 𝕁 𝞣 𝗏 ↳ 𝜡 𝒛 𝔭 ⱽ ♒ ⚪ 𝘥 𝞷 ⤮ ɬ ↫ 𝔐 𝚔 𝖀 ◅ 𝚙 𝘇 ➛ 𝘝 𝒦 ⬬ 𝑄 𝟶 𝙇 ◿ ª ♥ − ̡ ⅉ ■ 𝘨 ¾ ⚄ ∼ ⇂ 𝔻 𝜕 𝙓 𝘞 ₓ 𝞯 ϶ 𝕐 𝜢 ⃛ 𝝚 ⊹ ⤭ ϝ 𝐂 ⇇ ⬘ 𝟹 𝛺 𝛲 𝕠 𝗞 𝒎 𝚥 ⦠ º 𝘽 ⏎ ◃ Þ æ 𝛊 𝑜 𝝶 ⎷ 𝓂 𝓜 𝔛 ◷ ↰ 𝗖 ⇤ ⊸ 𝞎 𝐾 𝙻 ℩ ℸ ⨂ 𝔗 ⋀ ␣ ł ⪯̸ ᵡ 𝐆 ♾ … ⇋ 𝜦 ϰ 𝕩 𝟘 𝐀 ↺ 𝜉 𝝆 𝚗 ⇅ ∃ ᵀ ϙ ð ∎ ⌶ ♎ ⬦ ⦨ 𝖋 𝕊 𝑣 ⭔ 𝔫 𝐏 ϑ ɔ ⨙ ⌐ ⦧ 𝙶 𝗹 𝖓 𝓕 ◳ ⏥ 𝛮 𝘔 ⌑ 𝛜 𝗛 ⬧ ⬭ 𝝯 𝖾 𝖻 ɭ ̢ 𝕳 ℘ ⬣ 𝓷 𝕓 𝔱 ◫ 𝜇 𝗼 𝐗 ⚉ 𝛷 ◭ ˇ 𝛂 𝟧 𝑵 𝔈 𝜶 ̐   𝚲 𝗗 𝐌 ⇥ 𝒒 ♀ ♣ 𝔩 𝚾 ◞ ℳ 𝛩 ⦤ 𝜯 ♓ 𝕝 𝓺 ♏ ⇑ ℙ ► 𝚓 ̰ ⁼ ⟀ 𝟤 ◖ ▼ 𝓱 𝟋 𝖗 𝔦 ᵥ 𝓩 𝑍 κ ◪ 𝔮 𝘅 𝚬 𝖚 𝑿 𝟖 𝛣 𝜀 𝗘 𝓵 ⇆ ᵏ ₁ 𝑈 ∰ ᵨ 𝑙 𝗐 ↵ 𝙋 𝗈 𝚊 𝘛 ⇓ ₀ 𝘤 𝘣 ɲ 𝔪 𝓲 𝞸 𝟩 ℽ 𝐚 𝚒 𝖈 ▓ 𝙠 𝜷 ⦢ Λ 𝐽 𝒖 ¼ ∞ 𝗶 ⃗ 𝐟 ≨︀ 𝙯 ᶜ ´ ⨄ ʸ ⨖ 𝚶 𝟼 ∏ ᵐ ∿ ℱ 𝘒 Α † 𝟻 ᵝ 𝗌 𝓆 𝐝 ♉ 𝝎 ℇ ⤪ 𝝊 ◱ ☿ ‱ 𝟨 ▰ 𝓳 𝝨 𝝰 ∮ 𝝏 𝖇 𝓍 𝚨 𝐑 𝑼 𝔳 𝗝 𝛝 𝛎 𝓞 𝒐 𝛅 ⧏ 𝜤 ‶ 𝞿 𝗨 ↶ 𝑺 𝚞 η 𝓤 𝗺 ⊨ ∐ 𝑲 𝗡 𝒅 𝘴 ♑ ◛ 𝗢 𝞠 𝔒 𝞔 ⃝ ↟ ◧ ϡ ◦ 𝘌 𝘿 𝟥 ♡ ⚬ ≩︀ ι 𝔲 𝞍 ⨏ ♢ 𝑀 ◄ μ 𝟞 ₂ ▄ Ζ ♐ 𝐹 ◚ ᵠ ⚥ 𝔽 𝚩 ᴬ 𝜸 ɸ ℋ ◑ ∭ ɼ α ℰ 𝚉 𝟓 𝝂 ⃬ 𝕴 ⌗ ℌ ∳ 𝟮 ⅃ 〒 𝒂 𝐤 𝖌 𝞘 𝙔 𝘧 𝗪 𝚀 ⨋ 𝞇 𝖱 𝙙 ┆ 𝟽 ↗ 𝙨 𝖜 ⎹ ↡ 𝕭 𝗅 ⦀ ◟ ⁴ ⬯ 𝔤 𝚡 ɽ ‖ 𝖪 𝐷 𝔜 ▤ ✪ 𝓎 𝞖 ̉ Ο ⋈ ⃖ 𝒕 𝘭 𝕃 𝖫 ◵ 𝙲 ̊ ▌ 𝖿 ♋ ⚁ 𝛋 𝟢 𝝓 ̱ ʼ ◼ 𝙸 ⇜ Å ⫤ ∱ 𝓰 Ξ 𝙖 Ϡ 𝜣 ⬚ © £ 𝓝 𝒶 ℨ 𝖰 𝟲 𝑓 𝜭 𝘮 𝓹 𝗒 ♧ 𝝈 ˒ ₆ 𝚴 ™ Δ Ε 𝘖 𝕪 𝚽 𝓏 ⨍ 𝟗 ϕ ¶ ˢ 𝘬 ⨐ ϛ 𝕄 𝒥 ℏ 𝑘 ▴ 𝑧 ⩾̸ ⃐ 𝞅 𝝖 𝑋 𝕸 𝖸 ◾ ⦝ 𝒸 ℵ ₄ 𝚪 ◮ 𝕡 ○ 𝔚 𝛖 𝞃 𝚖 𝞩 𝛧 𝕍 ↽ 𝑶 𝜧 ⦙ ⬫ ⦥ 𝝛 𝓐 ♄ 𝜫 𝙅 ƕ 𝕼 ◨ ♂ ⚀ ⚆ 𝛸 𝕔 𝚻 𝞫 ̆ 𝐶 𝜱 ⅁ ⫝ Ϛ ⅇ 𝛰 ⍓ 𝖩 𝟜 ˡ Å ☼ 𝗕 𝟦 ⊫ Ø ℧ 𝜊 ⚂ ⤯ ˑ ⭓ 𝙧 𝐃 𝑠 𝔾 ⦳ ɥ › 𝔄 ₜ ⬞ ↪ ⭒ 𝟟 ʔ 𝜅 ″ 𝞼 ↤ 𝙬 𝚏 ⏢ 𝛶 𝜘 ≫̸ 𝝗 𝔡 𝟇 ⍰ 𝐩 𝝮 𝑇 𝒲 𝗃 ⭑ σ 𝟠 ɯ ⟨ 𝟉 𝝾 𝖝 ⌙ 𝗾 ⋯ ʎ 𝗬 ∬ 𝜬 ♅ ̀ ▢ ⪢̸ 𝘏 ⎶ œ ᵣ ▲ đ 𝛇 ᶠ ◌ ⨌ 𝗦 𝝦 ⨯ 𝖎 𝗰 𝝋 ⌆ ⨅ ‡ 𝝥 ʳ ʤ 𝛿 ∡ 𝒻 𝟙 𝐭 𝓫 ᵦ 𝑖 ℓ ↙ ᴺ 𝚌 𝛚 ̵ 𝕒 𝓇 𝕧 ↖ 𝜪 𝘗 Ρ 𝒜 𝑦 𝘊 𝜾 𝜏 ° ᵈ ʧ ̄ ◎ 𝔙 ⟙ 𝙿 𝝉   𝓭 𝟷 ¦ ⏞ ɻ ⃞ 𝘼 ⏦ 𝑮 𝙛 ¯ 𝘑 𝙩 ↲ 𝐬 ▫ ᵩ △ ⨉ ɰ ɐ 𝒋 𝘩 ▻ 𝒇 𝐳 𝛏 𝒌 Ϝ 𝗔 ⁀ 𝗂 ⊝ 𝟣 𝓬 𝔠 𝕜 𝒾 𝖡 𝑤 𝚼 ᵢ 𝛾 ɣ ⏣ 𝕺 ø ʖ 𝓋 ⃨ 𝕛 ⌢ 𝒹 𝙡 𝞛 ⬜ Κ 𝛤 𝛻 ⎵ 𝙺 𝟏 𝝒 𝙍 ⇃ 𝒽 𝒚 ★ 𝚍 𝙆 𝚛 𝛄 𝝻 ᴳ 𝖉 ⁠ ◒ 𝒰 ⅆ ⅈ 𝞏 ⧄ ₊ ⇣ 𝖄 ⇧ 𝐥 ₔ 𝒷 ⌽ ▨ 𝕥 ⧊ 𝕽 Ω ⧅ ᵤ 𝘸 ʷ ˓ 𝙣 𝓼 ⅄ ℿ 𝛍 ⬛ ↥ 𝕮 — ╲ ʃ 𝚁 ▣ 𝜆 𝐯 𝛔 𝑫 𝖬 𝖏 𝝁 θ 𝔘 𝜻 𝗜 𝘲 ⦪ ₈ ◹ Ð ʕ 𝘺 𝓘 𝔶 𝙪 𝟿 ● 𝚳 ⇉ 𝟑 𝔑 ℒ 𝐪 𝐘 𝛫 𝙳 𝗻 𝒘 𝛗 𝒓 𝞪 ₃ ‘ 𝘂 𝖺 Γ 𝝵 𝐡 𝔅 𝒵 ℶ 𝐣 ⃜ 𝚄 𝙵 𝗳 ˣ ⁵ ⇈ 𝞗 𝕹 ⨔ 𝔀 𝐙 ʈ 𝘠 𝚝 ⦆ 𝗉 ▯ ⦬ γ ⧇ 𝐇 𝞱 𝙌 № 𝕕 𝟃 ᵍ 𝔰 𝙒 𝜥 𝓦 𝞵 𝝇 ⁷ ∴ 𝒫 ⏧ Æ 𝑯 𝝢 ⤰ 𝞜 ⇛ ² 𝜂 𝟈 𝖥 𝞂 ◜ ‛ ◓ 𝑳 𝝹 ⬡ 𝚯 𝗑 𝗋 𝘦 𝗸 ⇟ 𝞝 ᴵ ̅ ⋱ 𝝱 ℕ 𝗀 𝞾 𝒴 ≏̸ ⬨ ▾ 𝘱 ᵂ ∵ 𝕌 𝐜 ⊾ ⧏̸ 𝟵 𝘘 ⃟ Σ ⬠ ◥ ʐ ◰ ▬ “ 𝞒 𝘙 ⊧ 𝙂 𝓣 𝘚 ◬ ʲ ⤫ 𝔬 ɷ Ł 𝓯 ⫶ ↾ 𝛨 ⬔ 𝞧 ℷ 𝝍 𝟝 ⁽ 𝓁 ɒ 𝕖 𝐲 𝘃 𝔇 𝕾 𝛕 ∀ 𝖵 ̶ 𝑨 ⬮ 𝛛 𝖐 𝗯 ⅊ 𝖧 ₎ ⥂ υ 𝖣 ☡ ⧢ 𝘫 ◝ ⤨ ⧟ ≂̸ 𝜮 ː 𝗍 𝛥 𝓟 ▱ ς 𝟡 𝙤 𝐦 𝓊 𝝼 𝛌 𝙼 𝚑 𝞓 ◩ ◣ ₋ ⦱ 𝗊 ᶥ ℼ 𝙞 ↘ █ 𝝞 𝜍 𝐎 𝙢 ⭐ 𝝺 𝕦 ⇄ 𝙮 𝙫 ⇗ 𝐿 ˌ 𝘳 ℛ ᵅ 𝝧 ᴸ ✓ 𝔸 ◀ ˘ 𝔔 𝗄 ŋ ⭅ 𝚟 𝑢 ⚲ ⨁ 𝚱 𝙊 ⧫ 𝚤 𝗤 ̨ ɤ 𝛐 ⦲ ξ 𝔖 𝒏 ϐ Τ 𝞀 𝖍 𝟂 ₚ 𝙏 ⊥ 𝔴 𝗎 𝒄 ♇ 𝛭 𝐄 𝔨 þ 𝔼 χ ▧ ▩ 𝒈 𝟸 𝞨 ᶲ 𝘢 𝔂 𝓻 𝓮 δ 𝑃 ▭   𝑔 ⬤ Ⓢ ⨛ ⃯ 𝝭 ⅀ ¹ 𝐞 𝕤 Đ ⌈ 𝓉 𝑌 𝝩 𝟳 𝞳 𝒱 𝞹 𝐱 𝞄 𝚅 ₒ 𝟰 𝒢 ⨆ 𝒑 ↼ 𝙾 𝒬 𝙰 𝐮 𝚰 𝟒 𝞮 ⧐ 𝟴 ⚇ 𝘜 𝜄 𝙉 ‷ 𝕟 ↸ 𝖦 𝔟 𝓚 𝜌 ⌀ 𝕻 ρ ʊ 𝕞 𝖹 𝚂 ̌ 𝕀 ⃧   ⇪ 𝜟 𝖴 𝑗 𝒟 𝕆 𝖑 𝞊 ⌟ ̚ 𝜛 ̈ ⦡ ℞ ¡ 𝓠 𝚷 ⬓ ₗ 𝒊 𝐍 ν 𝝽 𝜠 𝑥 ⤧ ♆ ϴ 𝗱 ♫ 𝔊 ⦰ ⨎ ⨚ 𝝣 ⁺ 𝑟 𝔏 𝑞 ⇕ 𝐒 𝚘 ≎̸ ⨑ ǂ ♮ 𝗷 ☻ 𝐉 ⊭ ⟂ ♯ 𝟬 ” ⎸ 𝝔 𝜈 𝟎 𝜼 ▽ 𝛱 𝛡 𝛯 𝓌 𝓔 ϵ ᴶ ℎ ♪ 𝓿 ⇞ 𝘉 𝜑 𝛙 ⃰ ο 𝞻 ∑ 𝚹 𝛞 𝟅 𝚢 ₅ ♊ 𝞭 𝘟 ℤ ∄ ⌉ 𝑭 ‰ 𝛈 ̕ ◘ 𝕷 𝛁 ⇊ 𝗆 ₍ 𝟆 𝝝 𝚚 · ◶ Ι ᵪ ∂ ♃ ⊿ ⁱ 𝕗 𝐓 ⚃ 𝘯 𝝸 ◺ ♈ 𝘶 𝔎 ☉ ′ ⦴ ᵛ ℴ ⎣ ⃒ 𝜝 𝝌 𝝟 ⨕ 𝓽 𝚕 𝐴 ϖ 𝐢 𝚠 𝙜 ᵧ 𝓡 𝙑 ⨊ ɺ 𝖮 ʇ 𝖶 Μ ʒ ℭ 𝚸 ⌜ 𝛳 𝘄 𝗙 ∇ ᴰ ⦯ ▀ 𝑏 ▿ 𝞰 𝜵 𝛓 ⍀ ◠ 𝕚 ↕ 𝓥 ⬙ 𝖁 𝒔 𝙱 ⊪ ⌓ ́ ◽ 𝙦 𝝠 ⎴ ⅂ ⦜ 𝑪 𝗁 𝓖 𝓈 ̋ 𝜎 𝟁 ₙ ₧ ▹ 𝝄 ᴷ 𝛼 𝞴 𝙚 ⋮ 𝚇 ζ 𝐐 ₖ ᵁ ̧ 𝗥 ♤ 𝒮 𝜿 𝜃 𝙝 ³ ᴹ τ 𝔉 𝞶 ⋰ ∯ ℾ ᵞ ʞ ʂ 𝚫 ⫝̸ 𝑚 ⦞ 𝑷 ¨ ∅ 𝓶 𝝐 𝖖 ⎰ 𝜽 𝔷 ♦ ⁾ 𝛵 ◗ ψ 𝐺 𝗧 ⱼ ♭ 𝘐 ⩽̸ ▮ ⨃ 𝝕 ↹ ω 𝑰 𝖛 ⇠ ⤱ ╱ ⤩ Ψ ℐ ␢ ⇢ 𝑉 𝘎 𝟚 ▥ 𝜰 ↩ ˕ 𝓀 𝙥 ᵉ ≿̸ 𝞋 𝟪 ◸ 𝞞 ≪̸ ⊏̸ ℑ ᵟ ⪡̸ ⋂ ₕ 𝞲 𝕯 ⦮ ᴿ 𝙁 ✽ 𝞆 Β ⁿ 𝝴 ⇐ 𝞐 𝓓 𝜖 ∣ ɾ ✶ 𝚃 𝐛 ⇍ 𝑾 𝑴 ⬝ 𝑡 𝕰 𝗭 ▪ ◢ ₉ ɖ ⁰ ⌣ Η 𝒙 ⤦ 𝟫 ↻ 𝚜 ⤥ 𝞙 ⇨ ↴ ◯ 𝖷 ᴼ 𝜔 ⌲ 𝒗 𝑛 ⬟ ħ ˜ 𝑑 ☽ 𝝪 𝓒 𝑆 ◤ 𝝜 ⭆ 𝔧 ⇚ ⫣ ⫅̸ 𝛑 ⋁ ⃡ 𝓗 𝚭 𝑬 Ϟ 𝔹 𝚋 𝟛 ⃤ ◻ 𝟔 𝕫 ⇦ 𝝿 Φ ᵒ 𝙈 𝕙 ϱ € 𝖤 ₘ 𝕵 ᶿ "
     ]
    }
   ],
   "source": [
    "for sym in available_symbols\n",
    "    print(sym, \" \")\n",
    "end"
   ]
  },
  {
   "cell_type": "code",
   "execution_count": 39,
   "metadata": {
    "collapsed": false
   },
   "outputs": [
    {
     "data": {
      "text/plain": [
       "find_completion (generic function with 1 method)"
      ]
     },
     "execution_count": 39,
     "metadata": {},
     "output_type": "execute_result"
    }
   ],
   "source": [
    "function find_completion(sym)\n",
    "    for k in keys(latex_symbols)\n",
    "        if latex_symbols[k] == sym\n",
    "            return k\n",
    "        end\n",
    "    end\n",
    "end"
   ]
  },
  {
   "cell_type": "code",
   "execution_count": 40,
   "metadata": {
    "collapsed": false
   },
   "outputs": [
    {
     "data": {
      "text/plain": [
       "\"\\\\mbfsanstau\""
      ]
     },
     "execution_count": 40,
     "metadata": {},
     "output_type": "execute_result"
    }
   ],
   "source": [
    "find_completion(\"𝞃\")"
   ]
  }
 ],
 "metadata": {
  "kernelspec": {
   "display_name": "Julia 0.4.0",
   "language": "julia",
   "name": "julia-0.4"
  },
  "language_info": {
   "file_extension": ".jl",
   "mimetype": "application/julia",
   "name": "julia",
   "version": "0.4.0"
  }
 },
 "nbformat": 4,
 "nbformat_minor": 0
}
